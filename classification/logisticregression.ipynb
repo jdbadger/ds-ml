{
 "cells": [
  {
   "cell_type": "markdown",
   "metadata": {},
   "source": [
    "# Logistic Regression"
   ]
  },
  {
   "cell_type": "markdown",
   "metadata": {},
   "source": [
    "Logistic Regression is a linear classification algorithm used to estimate the probability of a finite set of outcomes for a given set of features. In logistic regression, a sigmoid curve is fit to the data using maximum likelihood estimation (MLE). MLE tests different values of coefficients for each feature over multiple iterations to minimize the error between the predicted and actual values of the target variable. Once the optimal coefficient for each feature is determined through MLE (this state is referred to as 'convergence'), the logistic function uses a linear combination of the features and applies the sigmoid function (which describes the sigmoid curve) to produce a predicted probability (y^) given an observation (x).\n",
    "\n",
    "\n",
    "This notebook applies Scikit-learn's logistic regression model, which implements regularized logistic regression by default. It does so because logistic regression can be prone to overfitting, especially when a large number of features are included in analysis. Overfitting can be addressed through regularization -- in the case of logistic regression, a process in which features with large coefficients are reduced or eliminated according to a specific penalty function in order to reduce the complexity of the model. It's important to note that regularization can reduce the effects of overfitting, but it may not reduce those effects entirely. \n",
    "\n",
    "In later steps, a logistic regression model is defined, features are selected, and hyperparameters are tuned using cross-validated grid search to yield the highest performing model possible given a define set of hyperparameters. Various measures are applied to assess model performance. and These steps are explained in greater detail below."
   ]
  },
  {
   "cell_type": "code",
   "execution_count": 2480,
   "metadata": {},
   "outputs": [],
   "source": [
    "%%capture\n",
    "%run preprocessing.ipynb"
   ]
  },
  {
   "cell_type": "code",
   "execution_count": 2481,
   "metadata": {},
   "outputs": [],
   "source": [
    "import matplotlib.pyplot as plt\n",
    "from sklearn.ensemble import RandomForestClassifier\n",
    "from sklearn.feature_selection import RFECV\n",
    "from sklearn.linear_model import LogisticRegression\n",
    "from sklearn.metrics import (\n",
    "    classification_report,\n",
    "    ConfusionMatrixDisplay,\n",
    "    roc_auc_score,\n",
    ")\n",
    "from sklearn.model_selection import (\n",
    "    cross_val_score,\n",
    "    GridSearchCV,\n",
    ")"
   ]
  },
  {
   "cell_type": "code",
   "execution_count": 2482,
   "metadata": {},
   "outputs": [],
   "source": [
    "random_state = 0"
   ]
  },
  {
   "cell_type": "code",
   "execution_count": 2483,
   "metadata": {},
   "outputs": [],
   "source": [
    "clf = LogisticRegression(max_iter=5000, random_state=random_state)"
   ]
  },
  {
   "cell_type": "markdown",
   "metadata": {},
   "source": [
    "## Feature Selection"
   ]
  },
  {
   "cell_type": "markdown",
   "metadata": {},
   "source": [
    "There are 26 features after preprocessing. Recall that some features were excluded prior to applying preprocessing transformations. This isn't a huge number of features, but it may be enough to confound analysis by the model leading to lower accuracy or a less generalizable model (an overfit model) or both. At some point, adding more feature inputs in logistic regression can increase the likelihood that the model will overfit. This is why it's important to apply some degree of feature selection before model training -- reducing the number of features to only those that are most important to the problem will produce a more generalizable model.\n",
    "\n",
    "In this case,the feature selection method I've chosen to implement is `Cross-validated Recursive Feature Elimination` (Scikit-learn's RFECV) using a random forest classifier as an estimator. Recursive Feature Elimination works by fitting the model and removing the least informative feature or features and repeating until the desired/optimal number of features is reached. With cross-validation, this process is repeated k times and an optimal set of features is selected based upon a scoring algorithm (i.e. accuracy, error, or some other measure).\n",
    "\n",
    "I've chosen a `random forest classifier` (Scikit-learn's RandomForestClassifier) as an estimator for its advantages in determining feature importances. A random forest is an ensemble of decision trees. It uses random sampling of data with replacement (bagging) and and feature randomness (feature bagging) to create a forest of uncorrelated decision trees. As bagged decision trees are created, the reduction in the error function for each selected feature is calculated at each split. The greater the reduction in the error function for a given feature, the more important the feature. Evaluating feature importance across all decision trees provides a robust way of determining which subset of features is most informative of the target and which are relatively unimportant.\n",
    "\n",
    "Feature selection alone may not be enough to prevent overfitting but the hope is that in combination with model tuning a performant, generalizable model will be achieved. Feature selection steps are carried out in the code cell immediately below."
   ]
  },
  {
   "cell_type": "code",
   "execution_count": 2484,
   "metadata": {},
   "outputs": [
    {
     "data": {
      "text/html": [
       "<style type=\"text/css\">\n",
       "#T_c56d3_row0_col0, #T_c56d3_row0_col1, #T_c56d3_row7_col0, #T_c56d3_row7_col1, #T_c56d3_row11_col0, #T_c56d3_row11_col1, #T_c56d3_row13_col0, #T_c56d3_row13_col1, #T_c56d3_row14_col0, #T_c56d3_row14_col1, #T_c56d3_row18_col0, #T_c56d3_row18_col1, #T_c56d3_row19_col0, #T_c56d3_row19_col1, #T_c56d3_row20_col0, #T_c56d3_row20_col1, #T_c56d3_row23_col0, #T_c56d3_row23_col1, #T_c56d3_row24_col0, #T_c56d3_row24_col1, #T_c56d3_row25_col0, #T_c56d3_row25_col1, #T_c56d3_row26_col0, #T_c56d3_row26_col1 {\n",
       "  background-color: gray;\n",
       "}\n",
       "</style>\n",
       "<table id=\"T_c56d3\">\n",
       "  <thead>\n",
       "    <tr>\n",
       "      <th class=\"blank level0\" >&nbsp;</th>\n",
       "      <th id=\"T_c56d3_level0_col0\" class=\"col_heading level0 col0\" >Feature Name</th>\n",
       "      <th id=\"T_c56d3_level0_col1\" class=\"col_heading level0 col1\" >Selected</th>\n",
       "    </tr>\n",
       "  </thead>\n",
       "  <tbody>\n",
       "    <tr>\n",
       "      <th id=\"T_c56d3_level0_row0\" class=\"row_heading level0 row0\" >0</th>\n",
       "      <td id=\"T_c56d3_row0_col0\" class=\"data row0 col0\" >Age</td>\n",
       "      <td id=\"T_c56d3_row0_col1\" class=\"data row0 col1\" >True</td>\n",
       "    </tr>\n",
       "    <tr>\n",
       "      <th id=\"T_c56d3_level0_row1\" class=\"row_heading level0 row1\" >1</th>\n",
       "      <td id=\"T_c56d3_row1_col0\" class=\"data row1 col0\" >CabinDeck_A</td>\n",
       "      <td id=\"T_c56d3_row1_col1\" class=\"data row1 col1\" >False</td>\n",
       "    </tr>\n",
       "    <tr>\n",
       "      <th id=\"T_c56d3_level0_row2\" class=\"row_heading level0 row2\" >2</th>\n",
       "      <td id=\"T_c56d3_row2_col0\" class=\"data row2 col0\" >CabinDeck_B</td>\n",
       "      <td id=\"T_c56d3_row2_col1\" class=\"data row2 col1\" >False</td>\n",
       "    </tr>\n",
       "    <tr>\n",
       "      <th id=\"T_c56d3_level0_row3\" class=\"row_heading level0 row3\" >3</th>\n",
       "      <td id=\"T_c56d3_row3_col0\" class=\"data row3 col0\" >CabinDeck_C</td>\n",
       "      <td id=\"T_c56d3_row3_col1\" class=\"data row3 col1\" >False</td>\n",
       "    </tr>\n",
       "    <tr>\n",
       "      <th id=\"T_c56d3_level0_row4\" class=\"row_heading level0 row4\" >4</th>\n",
       "      <td id=\"T_c56d3_row4_col0\" class=\"data row4 col0\" >CabinDeck_D</td>\n",
       "      <td id=\"T_c56d3_row4_col1\" class=\"data row4 col1\" >False</td>\n",
       "    </tr>\n",
       "    <tr>\n",
       "      <th id=\"T_c56d3_level0_row5\" class=\"row_heading level0 row5\" >5</th>\n",
       "      <td id=\"T_c56d3_row5_col0\" class=\"data row5 col0\" >CabinDeck_E</td>\n",
       "      <td id=\"T_c56d3_row5_col1\" class=\"data row5 col1\" >False</td>\n",
       "    </tr>\n",
       "    <tr>\n",
       "      <th id=\"T_c56d3_level0_row6\" class=\"row_heading level0 row6\" >6</th>\n",
       "      <td id=\"T_c56d3_row6_col0\" class=\"data row6 col0\" >CabinDeck_F</td>\n",
       "      <td id=\"T_c56d3_row6_col1\" class=\"data row6 col1\" >False</td>\n",
       "    </tr>\n",
       "    <tr>\n",
       "      <th id=\"T_c56d3_level0_row7\" class=\"row_heading level0 row7\" >7</th>\n",
       "      <td id=\"T_c56d3_row7_col0\" class=\"data row7 col0\" >CabinDeck_G</td>\n",
       "      <td id=\"T_c56d3_row7_col1\" class=\"data row7 col1\" >True</td>\n",
       "    </tr>\n",
       "    <tr>\n",
       "      <th id=\"T_c56d3_level0_row8\" class=\"row_heading level0 row8\" >8</th>\n",
       "      <td id=\"T_c56d3_row8_col0\" class=\"data row8 col0\" >CabinDeck_T</td>\n",
       "      <td id=\"T_c56d3_row8_col1\" class=\"data row8 col1\" >False</td>\n",
       "    </tr>\n",
       "    <tr>\n",
       "      <th id=\"T_c56d3_level0_row9\" class=\"row_heading level0 row9\" >9</th>\n",
       "      <td id=\"T_c56d3_row9_col0\" class=\"data row9 col0\" >CabinLocation_Aft</td>\n",
       "      <td id=\"T_c56d3_row9_col1\" class=\"data row9 col1\" >False</td>\n",
       "    </tr>\n",
       "    <tr>\n",
       "      <th id=\"T_c56d3_level0_row10\" class=\"row_heading level0 row10\" >10</th>\n",
       "      <td id=\"T_c56d3_row10_col0\" class=\"data row10 col0\" >CabinLocation_Fore</td>\n",
       "      <td id=\"T_c56d3_row10_col1\" class=\"data row10 col1\" >False</td>\n",
       "    </tr>\n",
       "    <tr>\n",
       "      <th id=\"T_c56d3_level0_row11\" class=\"row_heading level0 row11\" >11</th>\n",
       "      <td id=\"T_c56d3_row11_col0\" class=\"data row11 col0\" >CabinLocation_Mid/Aft</td>\n",
       "      <td id=\"T_c56d3_row11_col1\" class=\"data row11 col1\" >True</td>\n",
       "    </tr>\n",
       "    <tr>\n",
       "      <th id=\"T_c56d3_level0_row12\" class=\"row_heading level0 row12\" >12</th>\n",
       "      <td id=\"T_c56d3_row12_col0\" class=\"data row12 col0\" >CabinLocation_Mid/Fore</td>\n",
       "      <td id=\"T_c56d3_row12_col1\" class=\"data row12 col1\" >False</td>\n",
       "    </tr>\n",
       "    <tr>\n",
       "      <th id=\"T_c56d3_level0_row13\" class=\"row_heading level0 row13\" >13</th>\n",
       "      <td id=\"T_c56d3_row13_col0\" class=\"data row13 col0\" >CabinSide_S</td>\n",
       "      <td id=\"T_c56d3_row13_col1\" class=\"data row13 col1\" >True</td>\n",
       "    </tr>\n",
       "    <tr>\n",
       "      <th id=\"T_c56d3_level0_row14\" class=\"row_heading level0 row14\" >14</th>\n",
       "      <td id=\"T_c56d3_row14_col0\" class=\"data row14 col0\" >CryoSleep_True</td>\n",
       "      <td id=\"T_c56d3_row14_col1\" class=\"data row14 col1\" >True</td>\n",
       "    </tr>\n",
       "    <tr>\n",
       "      <th id=\"T_c56d3_level0_row15\" class=\"row_heading level0 row15\" >15</th>\n",
       "      <td id=\"T_c56d3_row15_col0\" class=\"data row15 col0\" >Destination_55 Cancri e</td>\n",
       "      <td id=\"T_c56d3_row15_col1\" class=\"data row15 col1\" >False</td>\n",
       "    </tr>\n",
       "    <tr>\n",
       "      <th id=\"T_c56d3_level0_row16\" class=\"row_heading level0 row16\" >16</th>\n",
       "      <td id=\"T_c56d3_row16_col0\" class=\"data row16 col0\" >Destination_PSO J318.5-22</td>\n",
       "      <td id=\"T_c56d3_row16_col1\" class=\"data row16 col1\" >False</td>\n",
       "    </tr>\n",
       "    <tr>\n",
       "      <th id=\"T_c56d3_level0_row17\" class=\"row_heading level0 row17\" >17</th>\n",
       "      <td id=\"T_c56d3_row17_col0\" class=\"data row17 col0\" >Destination_TRAPPIST-1e</td>\n",
       "      <td id=\"T_c56d3_row17_col1\" class=\"data row17 col1\" >False</td>\n",
       "    </tr>\n",
       "    <tr>\n",
       "      <th id=\"T_c56d3_level0_row18\" class=\"row_heading level0 row18\" >18</th>\n",
       "      <td id=\"T_c56d3_row18_col0\" class=\"data row18 col0\" >FoodCourt</td>\n",
       "      <td id=\"T_c56d3_row18_col1\" class=\"data row18 col1\" >True</td>\n",
       "    </tr>\n",
       "    <tr>\n",
       "      <th id=\"T_c56d3_level0_row19\" class=\"row_heading level0 row19\" >19</th>\n",
       "      <td id=\"T_c56d3_row19_col0\" class=\"data row19 col0\" >HomePlanet_Earth</td>\n",
       "      <td id=\"T_c56d3_row19_col1\" class=\"data row19 col1\" >True</td>\n",
       "    </tr>\n",
       "    <tr>\n",
       "      <th id=\"T_c56d3_level0_row20\" class=\"row_heading level0 row20\" >20</th>\n",
       "      <td id=\"T_c56d3_row20_col0\" class=\"data row20 col0\" >HomePlanet_Europa</td>\n",
       "      <td id=\"T_c56d3_row20_col1\" class=\"data row20 col1\" >True</td>\n",
       "    </tr>\n",
       "    <tr>\n",
       "      <th id=\"T_c56d3_level0_row21\" class=\"row_heading level0 row21\" >21</th>\n",
       "      <td id=\"T_c56d3_row21_col0\" class=\"data row21 col0\" >HomePlanet_Mars</td>\n",
       "      <td id=\"T_c56d3_row21_col1\" class=\"data row21 col1\" >False</td>\n",
       "    </tr>\n",
       "    <tr>\n",
       "      <th id=\"T_c56d3_level0_row22\" class=\"row_heading level0 row22\" >22</th>\n",
       "      <td id=\"T_c56d3_row22_col0\" class=\"data row22 col0\" >InGroup_True</td>\n",
       "      <td id=\"T_c56d3_row22_col1\" class=\"data row22 col1\" >False</td>\n",
       "    </tr>\n",
       "    <tr>\n",
       "      <th id=\"T_c56d3_level0_row23\" class=\"row_heading level0 row23\" >23</th>\n",
       "      <td id=\"T_c56d3_row23_col0\" class=\"data row23 col0\" >RoomService</td>\n",
       "      <td id=\"T_c56d3_row23_col1\" class=\"data row23 col1\" >True</td>\n",
       "    </tr>\n",
       "    <tr>\n",
       "      <th id=\"T_c56d3_level0_row24\" class=\"row_heading level0 row24\" >24</th>\n",
       "      <td id=\"T_c56d3_row24_col0\" class=\"data row24 col0\" >ShoppingMall</td>\n",
       "      <td id=\"T_c56d3_row24_col1\" class=\"data row24 col1\" >True</td>\n",
       "    </tr>\n",
       "    <tr>\n",
       "      <th id=\"T_c56d3_level0_row25\" class=\"row_heading level0 row25\" >25</th>\n",
       "      <td id=\"T_c56d3_row25_col0\" class=\"data row25 col0\" >Spa</td>\n",
       "      <td id=\"T_c56d3_row25_col1\" class=\"data row25 col1\" >True</td>\n",
       "    </tr>\n",
       "    <tr>\n",
       "      <th id=\"T_c56d3_level0_row26\" class=\"row_heading level0 row26\" >26</th>\n",
       "      <td id=\"T_c56d3_row26_col0\" class=\"data row26 col0\" >VRDeck</td>\n",
       "      <td id=\"T_c56d3_row26_col1\" class=\"data row26 col1\" >True</td>\n",
       "    </tr>\n",
       "  </tbody>\n",
       "</table>\n"
      ],
      "text/plain": [
       "<pandas.io.formats.style.Styler at 0x7f0a5a3eb550>"
      ]
     },
     "metadata": {},
     "output_type": "display_data"
    }
   ],
   "source": [
    "input_features = X_test.columns\n",
    "\n",
    "estimator = RandomForestClassifier(n_jobs=-1, random_state=random_state)\n",
    "selector = RFECV(estimator, n_jobs=-1, scoring='roc_auc')\n",
    "\n",
    "X_train = selector.fit_transform(X_train, y_train)\n",
    "X_test = selector.transform(X_test)\n",
    "\n",
    "selected = selector.get_feature_names_out(input_features=input_features)\n",
    "data = {\n",
    "    'Feature Name': input_features,\n",
    "    'Selected': [(f in selected) for f in input_features],\n",
    "}\n",
    "df_selected = pd.DataFrame(data, columns=data.keys()).sort_values(by=['Feature Name']).reset_index(drop=True)\n",
    "display(df_selected.style.apply(lambda i: ['background-color: gray']*len(i) if i['Selected'] else '', axis=1))"
   ]
  },
  {
   "cell_type": "markdown",
   "metadata": {},
   "source": [
    "This selection method has reduced the number of features from 26 to 12. The selected features are highlighted above."
   ]
  },
  {
   "cell_type": "markdown",
   "metadata": {},
   "source": [
    "## Tune"
   ]
  },
  {
   "cell_type": "markdown",
   "metadata": {},
   "source": [
    "`Grid Search` is a model tuning method used to find the combination of hyperparameters that yields the best performing model. A hyperparameter is an input to the model that is set before the model is trained -- it is external to the model and cannot be estimated, whereas parameters are internal to the model and can be estimated (e.g. beta coefficients in logistic regression). Hyperparameters may have a significant impact on how the model learns, and therefore how the model performs.\n",
    "\n",
    "We'll implement Grid Search using Scikit-learn's GridSearchCV class. GridSearchCV trains the model over multiple iterations with various combinations of hyperparameters and tests the performance of each distinct combination using k-fold cross-validation. Once all the hyperparameter combinations have been tested, we can determine which combination yielded the best performing model.\n",
    "\n",
    " It's worth noting that sometimes fine tuning a model with grid search can lead to overfitting, so it's especially important to look for signs of overfitting when evaluating model performance. Another downside of grid search is that it is resource-intensive because all combinations of parameters are tried and - in the case of GridSearchCV - cross-validated."
   ]
  },
  {
   "cell_type": "markdown",
   "metadata": {},
   "source": [
    "Two of the most important hyperparameters for logistic regression are `solver` and `penalty`. We'll tune these hyperparameters below to find the optimal solver/penalty combination and inverse of regularization strength (to prevent overfitting to the extent possible). It's important to note that not all solvers and penalties are compatible with one another.\n",
    "\n",
    "From Scikit Learn Docs:\n",
    "\n",
    ">The choice of the algorithm depends on the penalty chosen. Supported penalties by solver:\n",
    ">\n",
    ">    ‘lbfgs’ - [‘l2’, None]\n",
    ">\n",
    ">    ‘liblinear’ - [‘l1’, ‘l2’]\n",
    ">\n",
    ">    ‘newton-cg’ - [‘l2’, None]\n",
    ">\n",
    ">    ‘newton-cholesky’ - [‘l2’, None]\n",
    ">\n",
    ">    ‘sag’ - [‘l2’, None]\n",
    ">\n",
    ">    ‘saga’ - [‘elasticnet’, ‘l1’, ‘l2’, None]\n",
    "\n",
    "source: https://scikit-learn.org/stable/modules/generated/sklearn.linear_model.LogisticRegression.html\n",
    "\n",
    "This solver/penalty compatibility will necessarily influence how we construct the hyperparameter combinations we'll test. I've tried to express this clearly in the code cell below."
   ]
  },
  {
   "cell_type": "code",
   "execution_count": 2485,
   "metadata": {},
   "outputs": [
    {
     "data": {
      "text/html": [
       "<style>#sk-container-id-172 {color: black;}#sk-container-id-172 pre{padding: 0;}#sk-container-id-172 div.sk-toggleable {background-color: white;}#sk-container-id-172 label.sk-toggleable__label {cursor: pointer;display: block;width: 100%;margin-bottom: 0;padding: 0.3em;box-sizing: border-box;text-align: center;}#sk-container-id-172 label.sk-toggleable__label-arrow:before {content: \"▸\";float: left;margin-right: 0.25em;color: #696969;}#sk-container-id-172 label.sk-toggleable__label-arrow:hover:before {color: black;}#sk-container-id-172 div.sk-estimator:hover label.sk-toggleable__label-arrow:before {color: black;}#sk-container-id-172 div.sk-toggleable__content {max-height: 0;max-width: 0;overflow: hidden;text-align: left;background-color: #f0f8ff;}#sk-container-id-172 div.sk-toggleable__content pre {margin: 0.2em;color: black;border-radius: 0.25em;background-color: #f0f8ff;}#sk-container-id-172 input.sk-toggleable__control:checked~div.sk-toggleable__content {max-height: 200px;max-width: 100%;overflow: auto;}#sk-container-id-172 input.sk-toggleable__control:checked~label.sk-toggleable__label-arrow:before {content: \"▾\";}#sk-container-id-172 div.sk-estimator input.sk-toggleable__control:checked~label.sk-toggleable__label {background-color: #d4ebff;}#sk-container-id-172 div.sk-label input.sk-toggleable__control:checked~label.sk-toggleable__label {background-color: #d4ebff;}#sk-container-id-172 input.sk-hidden--visually {border: 0;clip: rect(1px 1px 1px 1px);clip: rect(1px, 1px, 1px, 1px);height: 1px;margin: -1px;overflow: hidden;padding: 0;position: absolute;width: 1px;}#sk-container-id-172 div.sk-estimator {font-family: monospace;background-color: #f0f8ff;border: 1px dotted black;border-radius: 0.25em;box-sizing: border-box;margin-bottom: 0.5em;}#sk-container-id-172 div.sk-estimator:hover {background-color: #d4ebff;}#sk-container-id-172 div.sk-parallel-item::after {content: \"\";width: 100%;border-bottom: 1px solid gray;flex-grow: 1;}#sk-container-id-172 div.sk-label:hover label.sk-toggleable__label {background-color: #d4ebff;}#sk-container-id-172 div.sk-serial::before {content: \"\";position: absolute;border-left: 1px solid gray;box-sizing: border-box;top: 0;bottom: 0;left: 50%;z-index: 0;}#sk-container-id-172 div.sk-serial {display: flex;flex-direction: column;align-items: center;background-color: white;padding-right: 0.2em;padding-left: 0.2em;position: relative;}#sk-container-id-172 div.sk-item {position: relative;z-index: 1;}#sk-container-id-172 div.sk-parallel {display: flex;align-items: stretch;justify-content: center;background-color: white;position: relative;}#sk-container-id-172 div.sk-item::before, #sk-container-id-172 div.sk-parallel-item::before {content: \"\";position: absolute;border-left: 1px solid gray;box-sizing: border-box;top: 0;bottom: 0;left: 50%;z-index: -1;}#sk-container-id-172 div.sk-parallel-item {display: flex;flex-direction: column;z-index: 1;position: relative;background-color: white;}#sk-container-id-172 div.sk-parallel-item:first-child::after {align-self: flex-end;width: 50%;}#sk-container-id-172 div.sk-parallel-item:last-child::after {align-self: flex-start;width: 50%;}#sk-container-id-172 div.sk-parallel-item:only-child::after {width: 0;}#sk-container-id-172 div.sk-dashed-wrapped {border: 1px dashed gray;margin: 0 0.4em 0.5em 0.4em;box-sizing: border-box;padding-bottom: 0.4em;background-color: white;}#sk-container-id-172 div.sk-label label {font-family: monospace;font-weight: bold;display: inline-block;line-height: 1.2em;}#sk-container-id-172 div.sk-label-container {text-align: center;}#sk-container-id-172 div.sk-container {/* jupyter's `normalize.less` sets `[hidden] { display: none; }` but bootstrap.min.css set `[hidden] { display: none !important; }` so we also need the `!important` here to be able to override the default hidden behavior on the sphinx rendered scikit-learn.org. See: https://github.com/scikit-learn/scikit-learn/issues/21755 */display: inline-block !important;position: relative;}#sk-container-id-172 div.sk-text-repr-fallback {display: none;}</style><div id=\"sk-container-id-172\" class=\"sk-top-container\"><div class=\"sk-text-repr-fallback\"><pre>LogisticRegression(C=0.01, max_iter=5000, random_state=0, solver=&#x27;liblinear&#x27;)</pre><b>In a Jupyter environment, please rerun this cell to show the HTML representation or trust the notebook. <br />On GitHub, the HTML representation is unable to render, please try loading this page with nbviewer.org.</b></div><div class=\"sk-container\" hidden><div class=\"sk-item\"><div class=\"sk-estimator sk-toggleable\"><input class=\"sk-toggleable__control sk-hidden--visually\" id=\"sk-estimator-id-174\" type=\"checkbox\" checked><label for=\"sk-estimator-id-174\" class=\"sk-toggleable__label sk-toggleable__label-arrow\">LogisticRegression</label><div class=\"sk-toggleable__content\"><pre>LogisticRegression(C=0.01, max_iter=5000, random_state=0, solver=&#x27;liblinear&#x27;)</pre></div></div></div></div></div>"
      ],
      "text/plain": [
       "LogisticRegression(C=0.01, max_iter=5000, random_state=0, solver='liblinear')"
      ]
     },
     "execution_count": 2485,
     "metadata": {},
     "output_type": "execute_result"
    }
   ],
   "source": [
    "params = [\n",
    "    {\n",
    "        'n_jobs': [None],\n",
    "        'penalty': ['l1', 'l2'],\n",
    "        'solver': ['liblinear'],\n",
    "        'C': [0.001, 0.01, 0.1, 0.2, 0.4, 0.6, 0.8, 1],\n",
    "    },\n",
    "    {\n",
    "        'n_jobs': [-1],\n",
    "        'penalty': ['l1', 'l2'],\n",
    "        'solver': ['saga'],\n",
    "        'C': [0.001, 0.01, 0.1, 0.2, 0.4, 0.6, 0.8, 1],\n",
    "    },\n",
    "    {\n",
    "        'n_jobs': [-1],\n",
    "        'penalty': ['l2'],\n",
    "        'solver': ['lbfgs', 'newton-cg', 'newton-cholesky', 'sag'],\n",
    "        'C': [0.001, 0.01, 0.1, 0.2, 0.4, 0.6, 0.8, 1],\n",
    "    },\n",
    "]\n",
    "\n",
    "search = GridSearchCV(\n",
    "    clf,\n",
    "    params,\n",
    "    scoring='roc_auc',\n",
    ")\n",
    "\n",
    "search.fit(X_train, y_train)\n",
    "\n",
    "clf.set_params(**search.best_params_)"
   ]
  },
  {
   "cell_type": "markdown",
   "metadata": {},
   "source": [
    "## Train & Predict"
   ]
  },
  {
   "cell_type": "code",
   "execution_count": 2486,
   "metadata": {},
   "outputs": [],
   "source": [
    "clf.fit(X_train, y_train)\n",
    "y_pred = clf.predict(X_test)"
   ]
  },
  {
   "cell_type": "markdown",
   "metadata": {},
   "source": [
    "## Evaluate"
   ]
  },
  {
   "cell_type": "markdown",
   "metadata": {},
   "source": [
    "Assessing model performance can be tricky. Certain evaluation metrics are more suited to different types of models than others. Futhermore, there can be many underlying factors that can conflate measurements and confuse interpretation of results. That being the case, it's important to use multiple metrics to assess model performance, and to chose the metrics best suited to the type of model employed.\n",
    "\n",
    "The `accuracy` score for the model is a simple calculation of the number of correct predictions out of the total number of predictions. It tends to be a good metric of model performance when data is balanced. But assessing a model by the proportion of correct predictions alone can be misleading. Any model could be subject to the 'Accurary Paradox'. The Accuracy Paradox describes a phenomenon in which a model with higher accuracy has less predictive power than a model with lower accuracy. This can be caused by imbalanced data and/or overfitting, among other causes. Therefore, it's also important to consider other factors. We can also assess a model by its `precision` and `recall`. Precision is a measure of the accuracy of the model's positive predictions that penalizes false-positives; and recall measures what proportion of those postive cases the model actually identified as positive -- it penalizes false-negatives. These are often considered together as the `F1` score, which is the harmonic mean of precision and recall.\n",
    "\n",
    "Another reliable way to assess the performance of a classification model is to calculate `ROC AUC`. The ROC (Receiver Operating Characteristics) Curve plots the relationship between the true-positive rate (y-axis) and the false-positive rate (x-axis) at various classification thresholds. The Area Under Curve is a measure of class separability -- it tells us how well the model performs at distinguishing between classes. A ROC AUC score of 0.5 (lowest score) means the model has very little or no ability to distinguish between classes; and a score of 1.0 (highest score) means the model performs perfectly at distinguishing between classes. ROC AUC is a good metric when data is imbalanced.\n",
    "\n",
    "Here's a summary of how these various metrics are calculated:\n",
    "\n",
    "- **Accuracy:**\n",
    "    - Number of correct predictions out of the total number of predictions\n",
    "    - Beware of the accuracy paradox\n",
    "    - A poor metric for imbalanced data\n",
    "    - (true-positive + true-negative) / total observations\n",
    ">\n",
    "- **Precision:**\n",
    "    - Accuracy of positive predictions.\n",
    "    - Prefer when minimizing false-positives is the priority\n",
    "    - true-positive / (true-positive + false-postive)\n",
    ">\n",
    "- **Recall:**\n",
    "    - Proportion of positive cases the model actually identified as positive\n",
    "    - Prefer when minimizing false-negatives is the priority\n",
    "    - true-positive / (true-positive + false-negative)\n",
    ">\n",
    "- **F1:**\n",
    "    - Harmonic mean of precision and recall\n",
    "    - Prefer when minimizing all false predictions is the priority\n",
    "    - 2 * precision * recall / (precision + recall)\n",
    ">\n",
    "- **ROC AUC:**\n",
    "    - A measure of class separability\n",
    "    - Measures how well the model performs at distinguishing between classes\n",
    "    - A good metric for imbalanced data"
   ]
  },
  {
   "cell_type": "markdown",
   "metadata": {},
   "source": [
    "Before applying these metrics, it can help to get a sense of the distribution of the model's predictions. A confusion matrix can help vizualize the distribution. Scikit-learn's confusion_matrix function is used below to report the distribution of true-positive, false-positive, false-negative, and true-negative predictions."
   ]
  },
  {
   "cell_type": "code",
   "execution_count": 2487,
   "metadata": {},
   "outputs": [
    {
     "data": {
      "text/plain": [
       "<sklearn.metrics._plot.confusion_matrix.ConfusionMatrixDisplay at 0x7f0a5374aef0>"
      ]
     },
     "execution_count": 2487,
     "metadata": {},
     "output_type": "execute_result"
    },
    {
     "data": {
      "image/png": "[encoded data removed]",
      "text/plain": [
       "<Figure size 640x480 with 2 Axes>"
      ]
     },
     "metadata": {},
     "output_type": "display_data"
    }
   ],
   "source": [
    "ConfusionMatrixDisplay.from_predictions(y_test, y_pred, display_labels=['True', 'False'], cmap=plt.cm.Blues)"
   ]
  },
  {
   "cell_type": "markdown",
   "metadata": {},
   "source": [
    "Using these figures and the formulas above, we could calculate each metric manually; but let's just use Scikit-learn's convenient classification_report function."
   ]
  },
  {
   "cell_type": "code",
   "execution_count": 2488,
   "metadata": {},
   "outputs": [
    {
     "name": "stdout",
     "output_type": "stream",
     "text": [
      "                     precision    recall  f1-score   support\n",
      "\n",
      "Transported (False)     0.8437    0.7206    0.7773      1303\n",
      " Transported (True)     0.7565    0.8667    0.8079      1305\n",
      "\n",
      "           accuracy                         0.7937      2608\n",
      "          macro avg     0.8001    0.7937    0.7926      2608\n",
      "       weighted avg     0.8001    0.7937    0.7926      2608\n",
      "\n",
      "ROC AUC: 0.8817\n"
     ]
    }
   ],
   "source": [
    "clf_report = classification_report(y_test, y_pred, target_names=['Transported (False)', 'Transported (True)'], digits=4)\n",
    "print(clf_report)\n",
    "\n",
    "roc_auc_score = roc_auc_score(y_test, clf.predict_proba(X_test)[:, 1])\n",
    "print(f\"ROC AUC: {roc_auc_score:.4f}\")"
   ]
  },
  {
   "cell_type": "markdown",
   "metadata": {},
   "source": [
    "`K-Fold Cross-validation` can provide even more confidence in the above metrics. K-fold cross-validation works by dividiing the dataset into 'k' number of subsets (folds), and then trains and tests the model over 'k' rounds. During each round, the model is trained on all but one subset (k-1), and the remaining subset is used as a test set to produce an accuracy score for that round. We can get a good sense of model performance by evaluating the average accuracy and ROC AUC accross all cross-validations performed."
   ]
  },
  {
   "cell_type": "code",
   "execution_count": 2489,
   "metadata": {},
   "outputs": [
    {
     "name": "stdout",
     "output_type": "stream",
     "text": [
      "K-fold CV Accuracies: 0.7975 (train) | 0.7983 (test)\n",
      "K-fold CV ROC AUCs: 0.8822 (train) | 0.8775 (test)\n"
     ]
    }
   ],
   "source": [
    "train_accuracy = cross_val_score(clf, X=X_train, y=y_train, scoring='accuracy')\n",
    "train_roc_auc = cross_val_score(clf, X=X_train, y=y_train, scoring='roc_auc')\n",
    "\n",
    "test_accuracy = cross_val_score(clf, X=X_test, y=y_test, scoring='accuracy')\n",
    "test_roc_auc = cross_val_score(clf, X=X_test, y=y_test, scoring='roc_auc')\n",
    "\n",
    "accuracies = f\"K-fold CV Accuracies: {train_accuracy.mean():.4f} (train) | {test_accuracy.mean():.4f} (test)\"\n",
    "roc_aucs = f\"K-fold CV ROC AUCs: {train_roc_auc.mean():.4f} (train) | {test_roc_auc.mean():.4f} (test)\"\n",
    "print(f\"{accuracies}\\n{roc_aucs}\")"
   ]
  },
  {
   "cell_type": "markdown",
   "metadata": {},
   "source": [
    "Overall the model performs well at distinguishing between classes with a ROC AUC score of about 0.88 for both the training and test sets. The accuracy score is roughly 80% for both the training and test sets. Because accuracy and ROC AUC scores are very similar between test and training sets, we can be reasonably confident that the model is not overfitting. The F1 score is very similar to the accuracy score at nearly 80%. The model is better at predicting true-negatives than true-positives. The false-positive rate is higher than the false-negative rate as indicated by the precision and recall scores respectively (you can see it plainly in the confusion matrix as well). There might be more useful features that can be engineered from the dataset, but those really should be supported by strong hypotheses or domain knowledge. It might be the case that a different type of model might be more suited to the problem, but the model performs well nonetheless."
   ]
  }
 ],
 "metadata": {
  "kernelspec": {
   "display_name": "ds-ml",
   "language": "python",
   "name": "ds-ml"
  },
  "language_info": {
   "codemirror_mode": {
    "name": "ipython",
    "version": 3
   },
   "file_extension": ".py",
   "mimetype": "text/x-python",
   "name": "python",
   "nbconvert_exporter": "python",
   "pygments_lexer": "ipython3",
   "version": "3.10.1"
  },
  "orig_nbformat": 4
 },
 "nbformat": 4,
 "nbformat_minor": 2
}
